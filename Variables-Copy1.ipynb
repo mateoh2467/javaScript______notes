{
 "cells": [
  {
   "cell_type": "markdown",
   "id": "395f8586-461c-487e-9bdc-d978a31f30ee",
   "metadata": {},
   "source": [
    "# Variables in Javascript\n",
    "***\n",
    "Documentation located here.\n",
    "\n",
    "__Variables:__ A container for storing values. A variable has a name and contains a value. You\n",
    "\"Store\" a variable in memory and it allows you to access, modify, and manipulate that value\n",
    "throughout your program. Variables allow us to write programs in a generic manner, allow\n",
    "us to modify data without needing to modify the code structure.\n",
    "\n",
    "You can store many different data types in variables: Strings, Ints, booleans, floats, doubles\n",
    "and more\n",
    "\n",
    "# Variable Declaration & Initialization\n",
    "***\n",
    "Variables can be declared & initialize at the same time or seperately, in order to utilize the\n",
    "variable, both must happen.\n",
    "\n",
    "__Variable Declaration:__ This is the first step to creating a variable, it tells your program that\n",
    "we want to create a variable, in this step the variable has no value. Must declare with var, let\n",
    "or CONST keywords. Var is outdated, we do not use it, you will see it in legacy code as well\n",
    "as in code.org.<br>\n",
    "_<font color = \"blue\">Example:</font><br>_\n",
    "let age;<br>\n",
    "var name;<br>\n",
    "CONST birthday;\n",
    "\n",
    "__Variable Initialization:__ This is where you give a variable a value for the first time. Variables\n",
    "must be declared before initializing.<br>\n",
    "<font color = \"blue\">_Example:_</font><br>\n",
    "age = 25;<br>\n",
    "name = \"Cooper\";<br>\n",
    "birthday = 2000;\n",
    "\n",
    "__Variable Definition:__ Variables can be declared and initialized at the same time. We call this\n",
    "<font color = \"red\">\"Variable Definition\"</font>.<br>\n",
    "<font color = \"blue\">_Example:_</font><br>\n",
    "let age = 20;<br>\n",
    "var name = \"Cooper\";<br>\n",
    "CONST birthday = 2002;\n",
    "\n",
    "The equals sign is known as the <font color = \"red\">assignment operator</font> in most programming langauges. You\n",
    "must use this to create variables.\n",
    "\n",
    "# Naming Variables\n",
    "***\n",
    "Variable names are extremely important, naming conventions vary between languages, here\n",
    "are some tips:\n",
    "\n",
    "1. Use descriptive names, that match the purpose of the variable.\n",
    "2. Use CamelCase when writing multi-word variables (Javascript best practice)\n",
    "3. Avoid symbols, and \"reserved\" words, such as: let, for, if etc.<br><font color = \"red\">Never put spaces in variables, a variable can never just be an integer</font>\n",
    "\n",
    "<font color = \"blue\">_Good Examples:_</font><br>\n",
    "let firstName = \"Thomas\";<br>\n",
    "let numberOfLives = 9;<br>\n",
    "CONST temp = 98;<br>\n",
    "let messageOfTheDay = \"Hello there, welcome to CSP\";<br>\n",
    "<font color = \"blue\">_Bad Examples:_</font><br>\n",
    "let 2 = 9;<br>\n",
    "let N!M@ = \"John\";<br>\n",
    "let birthday month = \"December\";\n",
    "\n",
    "# Using the console.log( ); method with<br>Variables\n",
    "***\n",
    "We can combine our previous knowlege of the console log method with variables to stato\n",
    "build actual programs.\n",
    "\n",
    "Lets start by defining a variable:"
   ]
  },
  {
   "cell_type": "code",
   "execution_count": 6,
   "id": "e7a0ab0b-d2ae-49c9-8ad8-6022fb7f1ec5",
   "metadata": {
    "scrolled": true
   },
   "outputs": [
    {
     "ename": "SyntaxError",
     "evalue": "Identifier 'parentsAge' has already been declared",
     "execution_count": 6,
     "output_type": "error",
     "traceback": [
      "evalmachine.<anonymous>:1",
      "let parentsAge = 36;",
      "^",
      "",
      "SyntaxError: Identifier 'parentsAge' has already been declared",
      "    at Script.runInThisContext (node:vm:122:12)",
      "    at Object.runInThisContext (node:vm:296:38)",
      "    at run ([eval]:1020:15)",
      "    at onRunRequest ([eval]:864:18)",
      "    at onMessage ([eval]:828:13)",
      "    at process.emit (node:events:514:28)",
      "    at emit (node:internal/child_process:951:14)",
      "    at process.processTicksAndRejections (node:internal/process/task_queues:83:21)"
     ]
    }
   ],
   "source": [
    "let parentsAge = 36;"
   ]
  },
  {
   "cell_type": "markdown",
   "id": "00a7ddab-4c1c-4931-91b7-59add9d0827e",
   "metadata": {},
   "source": [
    "Now lets print the age variable to the console. __NOTE:__ In Jupyter we get the outut below our\n",
    "cell. If you want to see how this looks in a coding environment you can try this in VSCode."
   ]
  },
  {
   "cell_type": "code",
   "execution_count": 2,
   "id": "dac59c62-0d21-43dc-8092-198e60de0168",
   "metadata": {},
   "outputs": [
    {
     "name": "stdout",
     "output_type": "stream",
     "text": [
      "35\n"
     ]
    }
   ],
   "source": [
    "console.log(parentsAge);"
   ]
  },
  {
   "cell_type": "markdown",
   "id": "ea27e77a-973f-4dc9-a6d8-a18d17cd2d26",
   "metadata": {},
   "source": [
    "See above, when you run the cell (Shift + Enter) the output is not the variable name, but the\n",
    "information stored inside the variable. Below are more examples:"
   ]
  },
  {
   "cell_type": "code",
   "execution_count": 8,
   "id": "a1063fa6-64b6-4ccf-928c-796ea9eff213",
   "metadata": {},
   "outputs": [],
   "source": [
    "let birthdayCakeFlavor = \"chocolate\";"
   ]
  },
  {
   "cell_type": "code",
   "execution_count": 9,
   "id": "4d5147a3-7521-4db0-9781-86dc4a74c03c",
   "metadata": {},
   "outputs": [
    {
     "name": "stdout",
     "output_type": "stream",
     "text": [
      "chocolate\n"
     ]
    }
   ],
   "source": [
    "console.log(birthdayCakeFlavor);"
   ]
  },
  {
   "cell_type": "markdown",
   "id": "72b423a9-11f1-4fee-a924-ccff8a78cebf",
   "metadata": {},
   "source": [
    "# Operators\n",
    "***\n",
    "Operators are crucial for writing programming langauge. Operators are special symbols or\n",
    "keywords that can perform operations. Below are the most common types:\n",
    "\n",
    "__Arithmetic Operators:__ Used to perform basic math.<br>\n",
    "<font color = \"blue\">Example</font><br>+ (Add)<br>- (subtract)<br>* (Multiply)<br>/ (Divide)<br>\n",
    "% (Modulo)\n",
    "\n",
    "__Comparison Operators:__ Used to compare values.<br>\n",
    "<font color=\"blue\">Example</font><br>\n",
    "=== (equal)<br>\n",
    "!= (Not Equal)<br>\n",
    "< (Less Than)<br>> (Greater Than)<br>\n",
    "<= (less than or equal)<br>>= (Greater than or equal)\n",
    "\n",
    "__Logical Operators:__ Used to make decisions.<br>\n",
    "<font color=\"blue\">Example</font><br>\n",
    "&& (and)<br>\n",
    "|| (or)<br>\n",
    "! (Not)\n",
    "\n",
    "__Assignment Operators:__ Used in variables to assign value.<br>\n",
    "<font color=\"blue\">Example</font><br>\n",
    "= (Assign)<br>\n",
    "+= (Add and assign)<br>\n",
    "-= (Subtract and assign)<br>\n",
    "In [3]: In [4]:\n",
    "\n",
    "__String Operators:__ Used to concetenate (combine) two strings.<br>\n",
    "<font color=\"blue\">Example</font><br>+ (Concatenate)\n",
    "\n",
    "# Using Operators\n",
    "***\n",
    "Operators are simple to use within variables. They can be used outside of variables as well,\n",
    "but lets start by using them inside variables. We will use the same process as above, we will\n",
    "define a variable and then print to the console. However we will now utilize operpators to\n",
    "make more complex variables."
   ]
  },
  {
   "cell_type": "code",
   "execution_count": 11,
   "id": "7cad6107-1081-436f-9cb0-c1bbc7058acc",
   "metadata": {},
   "outputs": [
    {
     "ename": "SyntaxError",
     "evalue": "Identifier 'areaOfRectangle' has already been declared",
     "execution_count": 11,
     "output_type": "error",
     "traceback": [
      "evalmachine.<anonymous>:1",
      "let areaOfRectangle = 4 * 5;",
      "^",
      "",
      "SyntaxError: Identifier 'areaOfRectangle' has already been declared",
      "    at Script.runInThisContext (node:vm:122:12)",
      "    at Object.runInThisContext (node:vm:296:38)",
      "    at run ([eval]:1020:15)",
      "    at onRunRequest ([eval]:864:18)",
      "    at onMessage ([eval]:828:13)",
      "    at process.emit (node:events:514:28)",
      "    at emit (node:internal/child_process:951:14)",
      "    at process.processTicksAndRejections (node:internal/process/task_queues:83:21)"
     ]
    }
   ],
   "source": [
    "let areaOfRectangle = 4 * 5;"
   ]
  },
  {
   "cell_type": "code",
   "execution_count": 12,
   "id": "9bc59dcd-7ab1-4266-8b3b-567762afdc95",
   "metadata": {},
   "outputs": [
    {
     "name": "stdout",
     "output_type": "stream",
     "text": [
      "20\n"
     ]
    }
   ],
   "source": [
    "console.log(areaOfRectangle);"
   ]
  },
  {
   "cell_type": "markdown",
   "id": "0e069908-f621-4cbb-bd2c-8bd0937addba",
   "metadata": {},
   "source": [
    "We can use the concatenation (and the '+' operator) to make better print statements in the\n",
    "console. Note the space between the colon and the last quotation mark:"
   ]
  },
  {
   "cell_type": "code",
   "execution_count": 14,
   "id": "64a10c26-85b6-453e-9bb8-52ee0d9f48a7",
   "metadata": {},
   "outputs": [],
   "source": [
    "let areaOfSquare = 7 * 7;"
   ]
  },
  {
   "cell_type": "code",
   "execution_count": 15,
   "id": "33fba778-c731-424b-a8a2-14bf17a1d751",
   "metadata": {},
   "outputs": [
    {
     "name": "stdout",
     "output_type": "stream",
     "text": [
      "The area of a 7 inch square is: 49\n"
     ]
    }
   ],
   "source": [
    "console.log('The area of a 7 inch square is: ' + areaOfSquare);"
   ]
  },
  {
   "cell_type": "markdown",
   "id": "7743c0a4-3f06-434a-95fd-a8c0acb170ed",
   "metadata": {},
   "source": [
    "You can concatenate words too, however lets examine what happens:"
   ]
  },
  {
   "cell_type": "code",
   "execution_count": 16,
   "id": "d341db57-de29-4a28-8526-473ffef08b58",
   "metadata": {},
   "outputs": [],
   "source": [
    "let firstName = \"John\";\n",
    "let lastName = \"Doe\";"
   ]
  },
  {
   "cell_type": "code",
   "execution_count": 17,
   "id": "4ba27df6-2831-4fd4-87ba-28424d0dcfc2",
   "metadata": {},
   "outputs": [
    {
     "name": "stdout",
     "output_type": "stream",
     "text": [
      "His name is JohnDoe\n"
     ]
    }
   ],
   "source": [
    "console.log(\"His name is \" + firstName + lastName);"
   ]
  },
  {
   "cell_type": "markdown",
   "id": "392e351a-82cd-414f-9ac2-dd868c6dc23e",
   "metadata": {},
   "source": [
    "We are missing a space between first name and last name. We can fix this by adding a blank\n",
    "space, using an empty set of quotes, make sure you put a space between the quotes:"
   ]
  },
  {
   "cell_type": "code",
   "execution_count": 18,
   "id": "3ca62a3e-a5eb-4d4b-bd80-f79ca6eb6245",
   "metadata": {},
   "outputs": [
    {
     "name": "stdout",
     "output_type": "stream",
     "text": [
      "His name is John Doe\n"
     ]
    }
   ],
   "source": [
    "console.log(\"His name is \" + firstName + \" \" + lastName);"
   ]
  },
  {
   "cell_type": "markdown",
   "id": "7977d344-b2a3-4e43-a7d9-7b687cb25e81",
   "metadata": {},
   "source": [
    "We can also use operators on variables. For instance we will use the equality operator to see\n",
    "if the 2 variables below are equal. It will return true or false:"
   ]
  },
  {
   "cell_type": "code",
   "execution_count": 19,
   "id": "68c1ca27-5706-47e5-81bf-e64c6dd57da4",
   "metadata": {},
   "outputs": [],
   "source": [
    "let trainTicketValue = 5;\n",
    "let trainNumber = 4;"
   ]
  },
  {
   "cell_type": "code",
   "execution_count": 20,
   "id": "205f6367-fb0f-4b00-9f1c-4be1239109f9",
   "metadata": {},
   "outputs": [
    {
     "name": "stdout",
     "output_type": "stream",
     "text": [
      "false\n"
     ]
    }
   ],
   "source": [
    "console.log(trainTicketValue == trainNumber);"
   ]
  },
  {
   "cell_type": "markdown",
   "id": "02a5dd93-b1d5-4a1c-82cb-321d080db69a",
   "metadata": {},
   "source": [
    "# Changing Variable Assignments\n",
    "***\n",
    "Variables defined with let and var can be changed. CONST variables cannot be changed. In\n",
    "the example below we set the variable to a value, then change it. Notice the output takes the\n",
    "last value. IT does not mean that the variable was not the initial value, you just are printing\n",
    "the last value because the program is executing in a procedural step by step manner. Notice\n",
    "that when we mutate the variable we dont use the declaration keyword again. __NOTE:__ In\n",
    "Jupyter, mutating (changing) a variable name will print it out. This is __NOT__ the case in other \n",
    "IDE's, you will only see output when logging to the console."
   ]
  },
  {
   "cell_type": "code",
   "execution_count": 21,
   "id": "4972495f-754b-4640-8825-5af2f41474dd",
   "metadata": {},
   "outputs": [
    {
     "data": {
      "text/plain": [
       "10"
      ]
     },
     "execution_count": 21,
     "metadata": {},
     "output_type": "execute_result"
    }
   ],
   "source": [
    "let numOfCows = 10;\n",
    "numOfCows = 5;\n",
    "numOfCows = 10;"
   ]
  },
  {
   "cell_type": "code",
   "execution_count": 22,
   "id": "a5d5d7c6-7dc3-4ef2-bb8c-4ba2b3cb936f",
   "metadata": {},
   "outputs": [
    {
     "name": "stdout",
     "output_type": "stream",
     "text": [
      "10\n"
     ]
    }
   ],
   "source": [
    "console.log(numOfCows);"
   ]
  },
  {
   "cell_type": "code",
   "execution_count": 23,
   "id": "9d43d2ed-881e-4b1d-bbee-daf9a39f4edd",
   "metadata": {},
   "outputs": [
    {
     "data": {
      "text/plain": [
       "'Im a crow'"
      ]
     },
     "execution_count": 23,
     "metadata": {},
     "output_type": "execute_result"
    }
   ],
   "source": [
    "let murderOfCrows = 5 + 5;\n",
    "murderOfCrows = 1000000 * 7;\n",
    "murderOfCrows = \"Im a crow\";"
   ]
  },
  {
   "cell_type": "code",
   "execution_count": 24,
   "id": "e3730555-2e10-4d3c-a8f4-da675915c9b6",
   "metadata": {},
   "outputs": [
    {
     "name": "stdout",
     "output_type": "stream",
     "text": [
      "Im a crow\n"
     ]
    }
   ],
   "source": [
    "console.log(murderOfCrows);"
   ]
  }
 ],
 "metadata": {
  "kernelspec": {
   "display_name": "JavaScript (Node.js)",
   "language": "javascript",
   "name": "javascript"
  },
  "language_info": {
   "file_extension": ".js",
   "mimetype": "application/javascript",
   "name": "javascript",
   "version": "20.9.0"
  }
 },
 "nbformat": 4,
 "nbformat_minor": 5
}
