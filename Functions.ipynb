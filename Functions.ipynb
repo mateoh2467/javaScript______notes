{
 "cells": [
  {
   "cell_type": "markdown",
   "id": "5320bd3e-9e4d-480b-90b5-53aef7296a5f",
   "metadata": {},
   "source": [
    "### Functions In Javascript\r\n",
    "\r\n",
    "Documentatiolocated te<a href=\"https://www.w3schools.com/js/js_functions.asp\">here</.>r\n",
    "<hr>___.\r\n",
    "Funco____ns: Functions are one of the fundamental building blocks in JavaScript. A function in\r\n",
    "JavaScript is similar to a procedure—a set of statements that performs a task or calculates a\r\n",
    "value, but for a procedure to qualify as a function, it should take some input and return an\r\n",
    "output. Functions are repeatable lines of code that make our programs neater and easier to\r\n",
    "r nd### ###  run.\r\n",
    "\r\n",
    "Defining Functions\r\n",
    "\r\n",
    "In JavaScript, in order to create a function there is a syntax that we use. There are multiple\r\n",
    "ways to create functions in Javascript, we will talk about different ____ways belo\r\n",
    "Function ____Declarations:\r\n",
    "A function definition (also called a function declaration, or function statement) consists of\r\n",
    "the function keyword, followed by:\r\n",
    "he1. The name of function.\r\n",
    "2. . A list of parameters to the function, enclosed in parentheses and separatej commas.\r\n",
    "3. The savaScript statements that define the function, encles, {t { /* ... */ }.r*<br><font color = \"blue\"> </font></font>... */ }.\r\n",
    "Example:"
   ]
  },
  {
   "cell_type": "code",
   "execution_count": 14,
   "id": "8936df40-98b1-4996-bdbf-92b2f70ab1f9",
   "metadata": {},
   "outputs": [],
   "source": [
    "function square(number){\n",
    "    return number * number;\n",
    "}"
   ]
  },
  {
   "cell_type": "markdown",
   "id": "cca17a93-03e0-4696-b4eb-3ab4a3514aa8",
   "metadata": {},
   "source": [
    "In the example above the function called square takes a single parameter, which is the word enclosed in parenthesis. The function then utilizes the return keyword to pass the result of the parameter out of the function.\n",
    "\n",
    "__Parameter:__ A parameter in programming is a named variable used only in a function or method <font color = \"red\">definition</font>. It acts like a variable, a placeholder that recieves and holds the values <font color =\"red\">passed</font> to the function when its <font color =\"red\">called</font>. \n",
    "\n",
    "__Return:__ A return statement in a function is an optional statement that exists the function and returns a value to the program, outside of the block of the function. Any code following the return statement is _not_ executed. If a function doesn't have a return statement, or if no return value is specified, the function remains as _undefined_. "
   ]
  },
  {
   "cell_type": "code",
   "execution_count": 11,
   "id": "4f8f24cb-159c-41f9-9b70-b61d957164f3",
   "metadata": {},
   "outputs": [],
   "source": [
    "function sum(a, b) {\n",
    "    return a + b ; \n",
    "                   } "
   ]
  },
  {
   "cell_type": "markdown",
   "id": "9a8d0b67-310b-4d25-aa3a-ed37ceaad52f",
   "metadata": {},
   "source": [
    "In the function above we are utilizing 2 parameters and simply adding 2 numbers., A and B. We are then returning the value out of the function. However please note that functions need to have more than a definition which is seen above. We now need to call the function, in order to utilize it.is 8"
   ]
  },
  {
   "cell_type": "markdown",
   "id": "2f9892fc-ae83-4016-9ebc-cdf5bfc4a022",
   "metadata": {},
   "source": [
    "### Calling a Function \n",
    "<hr>\n",
    "\n",
    "__Function Call:__ A function call is when you _call_ or use the function you have created. Note that when you create a function it does not need to be used right away in a procedural order. You can create it and use it whenever you need, as many times as needed. Before calling the function you must define it in the steps above. The syntax for calling a function is below, we are using the function definition from the sum function we created above. Note that we are using something called <font color=\"red\">arguments</font> in a function call. \n",
    "\n",
    "__Argument:__ An argument is the value we input in the function call that is passed through the function via parameters. In other words the value of arguments are inputs and become the value of parameters in the function definition, much like how you assign a variable a value. __The position of arguments matter, the arguments fill in the parameters in the order in which they are written.__\n",
    "\n",
    "<font color=\"blue\">Syntax:</font> \n",
    "\n",
    "function_name (arguments); \n",
    "\n",
    "<font color=\"blue\">Example:</font> "
   ]
  },
  {
   "cell_type": "code",
   "execution_count": 12,
   "id": "072aef2a-bfe8-425d-963d-674893607436",
   "metadata": {},
   "outputs": [
    {
     "data": {
      "text/plain": [
       "8"
      ]
     },
     "execution_count": 12,
     "metadata": {},
     "output_type": "execute_result"
    }
   ],
   "source": [
    "sum(3, 5);"
   ]
  },
  {
   "cell_type": "markdown",
   "id": "8ce4fe77-c9e1-4fe5-8dd2-1bd1d05576bc",
   "metadata": {},
   "source": [
    "Here is how we can _call_ the square function we defined before in our notes. \n",
    "\n",
    "<font color=\"blue\">Example:</font> "
   ]
  },
  {
   "cell_type": "code",
   "execution_count": 15,
   "id": "76ba08c7-97df-49e0-a13b-fbf005441012",
   "metadata": {},
   "outputs": [
    {
     "data": {
      "text/plain": [
       "25"
      ]
     },
     "execution_count": 15,
     "metadata": {},
     "output_type": "execute_result"
    }
   ],
   "source": [
    "square(5);"
   ]
  },
  {
   "cell_type": "markdown",
   "id": "6ba832f2-74b6-43d1-93fa-3fab85ef1b07",
   "metadata": {},
   "source": [
    "<font color=\"blue\">Syntax:</font>"
   ]
  },
  {
   "cell_type": "markdown",
   "id": "da7a6025-3a0d-48a1-a1b6-7a02e32fffb4",
   "metadata": {},
   "source": [
    "### Function Definitions and Calls \n",
    "<hr>"
   ]
  },
  {
   "cell_type": "markdown",
   "id": "56a0fef4-c25d-4a85-b5ff-ca15b0c33f75",
   "metadata": {},
   "source": [
    "We always utilize function definitions, calls, parameters, return and arguments together. Parameters, return statements and arguments are always optional. Below are some example are simple functions with their definitions and calls. __Note that Jupyter Lab will print these functions by default. You must create print statements / variables to actually see results of your functions in regular JS.__\n",
    "<br>\n",
    "\n",
    "<font color=\"blue\">Examples:</font>"
   ]
  },
  {
   "cell_type": "code",
   "execution_count": 18,
   "id": "0d3fd903-d1f5-4d12-8b9e-25cad20a5599",
   "metadata": {},
   "outputs": [
    {
     "name": "stdout",
     "output_type": "stream",
     "text": [
      "Hello there Cooper\n"
     ]
    }
   ],
   "source": [
    "function greet(name) {\n",
    "    console.log(\"Hello there \" + name); \n",
    "} \n",
    "\n",
    "greet(\"Cooper\"); "
   ]
  },
  {
   "cell_type": "code",
   "execution_count": 19,
   "id": "b6fc761e-c713-4ae3-b99a-4e546d5adace",
   "metadata": {},
   "outputs": [
    {
     "name": "stdout",
     "output_type": "stream",
     "text": [
      "33\n"
     ]
    }
   ],
   "source": [
    "function ageFinder(dateOfBirth, currentYear) {\n",
    "    let age = currentYear - dateOfBirth;\n",
    "    return age; } \n",
    "console.log(ageFinder(1990, 2023)); "
   ]
  },
  {
   "cell_type": "markdown",
   "id": "dd6f1f67-e69c-45a2-8fa1-c01a39aeee2d",
   "metadata": {},
   "source": [
    "### Returning vs. console.Log() in Functions \n",
    "<hr> \n",
    "Often when starting out we will only need to display the value of the result of the function. We can do this by simply logging the value to the console. However this is often not sufficient for programs. A printed value can only be used in the block, the problem will pop up when trying to use function values elsewhere. Lets take a look at this using a function below.\n",
    "<br>\n",
    "<br>\n",
    "<font color=\"blue\">Example:</font> "
   ]
  },
  {
   "cell_type": "code",
   "execution_count": 23,
   "id": "a6fdfcd8-fcc4-47ea-9491-7e7d140b6fe0",
   "metadata": {},
   "outputs": [
    {
     "ename": "SyntaxError",
     "evalue": "Identifier 'value' has already been declared",
     "execution_count": 23,
     "output_type": "error",
     "traceback": [
      "evalmachine.<anonymous>:1",
      "function printTen() {",
      "^",
      "",
      "SyntaxError: Identifier 'value' has already been declared",
      "    at Script.runInThisContext (node:vm:122:12)",
      "    at Object.runInThisContext (node:vm:296:38)",
      "    at run ([eval]:1020:15)",
      "    at onRunRequest ([eval]:864:18)",
      "    at onMessage ([eval]:828:13)",
      "    at process.emit (node:events:514:28)",
      "    at emit (node:internal/child_process:951:14)",
      "    at process.processTicksAndRejections (node:internal/process/task_queues:83:21)"
     ]
    }
   ],
   "source": [
    "function printTen() {\n",
    "    console.log(10); \n",
    "} \n",
    "let value = printTen(); \n",
    "console.log(value * 2); "
   ]
  },
  {
   "cell_type": "code",
   "execution_count": 25,
   "id": "5294de38-660f-4592-97a3-8179a2038645",
   "metadata": {},
   "outputs": [
    {
     "ename": "SyntaxError",
     "evalue": "Identifier 'returnedValue' has already been declared",
     "execution_count": 25,
     "output_type": "error",
     "traceback": [
      "evalmachine.<anonymous>:1",
      "function returnTen() {",
      "^",
      "",
      "SyntaxError: Identifier 'returnedValue' has already been declared",
      "    at Script.runInThisContext (node:vm:122:12)",
      "    at Object.runInThisContext (node:vm:296:38)",
      "    at run ([eval]:1020:15)",
      "    at onRunRequest ([eval]:864:18)",
      "    at onMessage ([eval]:828:13)",
      "    at process.emit (node:events:514:28)",
      "    at emit (node:internal/child_process:951:14)",
      "    at process.processTicksAndRejections (node:internal/process/task_queues:83:21)"
     ]
    }
   ],
   "source": [
    "function returnTen() {\n",
    "    return 10; \n",
    "}\n",
    "returnTen(); \n",
    "let returnedValue = returnTen(); \n",
    "console.log(returnedValue * 2); "
   ]
  }
 ],
 "metadata": {
  "kernelspec": {
   "display_name": "JavaScript (Node.js)",
   "language": "javascript",
   "name": "javascript"
  },
  "language_info": {
   "file_extension": ".js",
   "mimetype": "application/javascript",
   "name": "javascript",
   "version": "20.9.0"
  }
 },
 "nbformat": 4,
 "nbformat_minor": 5
}
