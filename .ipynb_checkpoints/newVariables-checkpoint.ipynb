{
 "cells": [
  {
   "cell_type": "markdown",
   "id": "ad1d5c74-68ee-4d68-b06b-82438a2d0a9b",
   "metadata": {},
   "source": [
    "# Variables in Javascript\n",
    "***\n",
    "Documentation located <a href=\"https://www.w3schools.com/js/js_variables.asp\">here</a>.\n",
    "\n",
    "__Variables:__ A container for storing values. A variable has a name and contains a value. You\n",
    "\"Store\" a variable in memory and it allows you to access, modify, and manipulate that value\n",
    "throughout your program. Variables allow us to write programs in a generic manner, allow\n",
    "us to modify data without needing to modify the code structure.\n",
    "\n",
    "You can store many different data types in variables: Strings, Ints, booleans, floats, doubles\n",
    "and more\n",
    "\n",
    "# Variable Declaration & Initialization\n",
    "***\n",
    "Variables can be declared & initialize at the same time or seperately, in order to utilize the\n",
    "variable, both must happen.\n",
    "\n",
    "__Variable Declaration:__ This is the first step to creating a variable, it tells your program that\n",
    "we want to create a variable, in this step the variable has no value. Must declare with var, let\n",
    "or CONST keywords. Var is outdated, we do not use it, you will see it in legacy code as well\n",
    "as in code.org.<br>\n",
    "_<font color = \"blue\">Example:</font><br>_\n",
    "let age;<br>\n",
    "var name;<br>\n",
    "CONST birthday;\n",
    "\n",
    "__Variable Initialization:__ This is where you give a variable a value for the first time. Variables\n",
    "must be declared before initializing.<br>\n",
    "<font color = \"blue\">_Example:_</font><br>\n",
    "age = 25;<br>\n",
    "name = \"Cooper\";<br>\n",
    "birthday = 2000;\n",
    "\n",
    "__Variable Definition:__ Variables can be declared and initialized at the same time. We call this\n",
    "<font color = \"red\">\"Variable Definition\"</font>.<br>\n",
    "<font color = \"blue\">_Example:_</font><br>\n",
    "let age = 20;<br>\n",
    "var name = \"Cooper\";<br>\n",
    "CONST birthday = 2002;\n",
    "\n",
    "The equals sign is known as the <font color = \"red\">assignment operator</font> in most programming langauges. You\n",
    "must use this to create variables.\n",
    "\n",
    "# Naming Variables\n",
    "***\n",
    "Variable names are extremely important, naming conventions vary between languages, here\n",
    "are some tips:\n",
    "\n",
    "1. Use descriptive names, that match the purpose of the variable.\n",
    "2. Use CamelCase when writing multi-word variables (Javascript best practice)\n",
    "3. Avoid symbols, and \"reserved\" words, such as: let, for, if etc.<br><font color = \"red\">Never put spaces in variables, a variable can never just be an integer</font>\n",
    "\n",
    "<font color = \"blue\">_Good Examples:_</font><br>\n",
    "let firstName = \"Thomas\";<br>\n",
    "let numberOfLives = 9;<br>\n",
    "CONST temp = 98;<br>\n",
    "let messageOfTheDay = \"Hello there, welcome to CSP\";<br>\n",
    "<font color = \"blue\">_Bad Examples:_</font><br>\n",
    "let 2 = 9;<br>\n",
    "let N!M@ = \"John\";<br>\n",
    "let birthday month = \"December\";\n",
    "\n",
    "# Using the console.log( ); method with<br>Variables\n",
    "***\n",
    "We can combine our previous knowlege of the console log method with variables to stato\n",
    "build actual programs.\n",
    "\n",
    "Lets start by defining a variable:"
   ]
  },
  {
   "cell_type": "code",
   "execution_count": 1,
   "id": "dca530fa-31cd-4e41-978b-cb4c6707f658",
   "metadata": {},
   "outputs": [],
   "source": [
    "let parentsAge = 36;"
   ]
  },
  {
   "cell_type": "markdown",
   "id": "6676d600-171f-443b-90bf-d9d5634cde7f",
   "metadata": {},
   "source": [
    "Now lets print the age variable to the console. __NOTE:__ In Jupyter we get the outut below our\n",
    "cell. If you want to see how this looks in a coding environment you can try this in VSCode."
   ]
  },
  {
   "cell_type": "code",
   "execution_count": 3,
   "id": "9f980cf9-67ef-46d0-9d89-a910d91080db",
   "metadata": {},
   "outputs": [
    {
     "name": "stdout",
     "output_type": "stream",
     "text": [
      "36\n"
     ]
    }
   ],
   "source": [
    "console.log(parentsAge);"
   ]
  },
  {
   "cell_type": "markdown",
   "id": "cd9c2c0e-0310-41c6-879c-dbb6570681c0",
   "metadata": {},
   "source": [
    "See above, when you run the cell (Shift + Enter) the output is not the variable name, but the\n",
    "information stored inside the variable. Below are more examples:"
   ]
  },
  {
   "cell_type": "code",
   "execution_count": 4,
   "id": "f5c12c4c-cf7e-4d74-91d3-049ae4273990",
   "metadata": {},
   "outputs": [],
   "source": [
    "let birthdayCakeFlavor = \"chocolate\";"
   ]
  },
  {
   "cell_type": "code",
   "execution_count": 5,
   "id": "68721a83-82b5-446f-a48d-594dcdf480b6",
   "metadata": {},
   "outputs": [
    {
     "name": "stdout",
     "output_type": "stream",
     "text": [
      "chocolate\n"
     ]
    }
   ],
   "source": [
    "console.log(birthdayCakeFlavor);"
   ]
  },
  {
   "cell_type": "markdown",
   "id": "a2ed532a-3154-46e1-8e33-a00fe7139292",
   "metadata": {},
   "source": [
    "# Operators\n",
    "***\n",
    "Operators are crucial for writing programming langauge. Operators are special symbols or\n",
    "keywords that can perform operations. Below are the most common types:\n",
    "\n",
    "__Arithmetic Operators:__ Used to perform basic math.<br>\n",
    "<font color = \"blue\">Example</font><br>+ (Add)<br>- (subtract)<br>* (Multiply)<br>/ (Divide)<br>\n",
    "% (Modulo)\n",
    "\n",
    "__Comparison Operators:__ Used to compare values.<br>\n",
    "<font color=\"blue\">Example</font><br>\n",
    "=== (equal)<br>\n",
    "!= (Not Equal)<br>\n",
    "< (Less Than)<br>> (Greater Than)<br>\n",
    "<= (less than or equal)<br>>= (Greater than or equal)\n",
    "\n",
    "__Logical Operators:__ Used to make decisions.<br>\n",
    "<font color=\"blue\">Example</font><br>\n",
    "&& (and)<br>\n",
    "|| (or)<br>\n",
    "! (Not)\n",
    "\n",
    "__Assignment Operators:__ Used in variables to assign value.<br>\n",
    "<font color=\"blue\">Example</font><br>\n",
    "= (Assign)<br>\n",
    "+= (Add and assign)<br>\n",
    "-= (Subtract and assign)<br>\n",
    "In [3]: In [4]:\n",
    "\n",
    "__String Operators:__ Used to concetenate (combine) two strings.<br>\n",
    "<font color=\"blue\">Example</font><br>+ (Concatenate)\n",
    "\n",
    "# Using Operators\n",
    "***\n",
    "Operators are simple to use within variables. They can be used outside of variables as well,\n",
    "but lets start by using them inside variables. We will use the same process as above, we will\n",
    "define a variable and then print to the console. However we will now utilize operpators to\n",
    "make more complex variables."
   ]
  },
  {
   "cell_type": "code",
   "execution_count": 6,
   "id": "3b1c5f42-ec0f-4841-8030-d2e3da6af891",
   "metadata": {},
   "outputs": [],
   "source": [
    "let areaOfRectangle = 4 * 5;"
   ]
  },
  {
   "cell_type": "code",
   "execution_count": 7,
   "id": "31db2a89-b108-4873-a44e-8a810d2074cb",
   "metadata": {},
   "outputs": [
    {
     "name": "stdout",
     "output_type": "stream",
     "text": [
      "20\n"
     ]
    }
   ],
   "source": [
    "console.log(areaOfRectangle);"
   ]
  },
  {
   "cell_type": "markdown",
   "id": "bf1aff23-5d93-4c33-b255-77bb68113b14",
   "metadata": {},
   "source": [
    "We can use the concatenation (and the '+' operator) to make better print statements in the\n",
    "console. Note the space between the colon and the last quotation mark:"
   ]
  },
  {
   "cell_type": "code",
   "execution_count": 8,
   "id": "c9d81457-917c-4303-8523-ded8049fbe90",
   "metadata": {},
   "outputs": [],
   "source": [
    "let areaOfSquare = 7 * 7;"
   ]
  },
  {
   "cell_type": "code",
   "execution_count": 9,
   "id": "37cd6656-267a-4e0e-b2db-dab92affa6bd",
   "metadata": {},
   "outputs": [
    {
     "name": "stdout",
     "output_type": "stream",
     "text": [
      "The area of a 7 inch square is: 49\n"
     ]
    }
   ],
   "source": [
    "console.log('The area of a 7 inch square is: ' + areaOfSquare);"
   ]
  },
  {
   "cell_type": "markdown",
   "id": "ec4da1ba-4c36-46b1-b7f9-f65f06a2fa3a",
   "metadata": {},
   "source": [
    "You can concatenate words too, however lets examine what happens:"
   ]
  },
  {
   "cell_type": "code",
   "execution_count": 10,
   "id": "97e68bfc-ffb3-4d02-975e-c443eb117051",
   "metadata": {},
   "outputs": [],
   "source": [
    "let firstName = \"John\";\n",
    "let lastName = \"Doe\";"
   ]
  },
  {
   "cell_type": "code",
   "execution_count": 11,
   "id": "4065961d-a947-4347-8333-0020360889b9",
   "metadata": {},
   "outputs": [
    {
     "name": "stdout",
     "output_type": "stream",
     "text": [
      "His name is JohnDoe\n"
     ]
    }
   ],
   "source": [
    "console.log(\"His name is \" + firstName + lastName);"
   ]
  },
  {
   "cell_type": "markdown",
   "id": "d124f531-c833-4063-9501-e74f6f6b6eba",
   "metadata": {},
   "source": [
    "We are missing a space between first name and last name. We can fix this by adding a blank space, using an empty set of quotes, make sure you put a space between the quotes:"
   ]
  },
  {
   "cell_type": "code",
   "execution_count": 13,
   "id": "a0b25a47-7872-415a-a779-5becec68c0e5",
   "metadata": {},
   "outputs": [
    {
     "name": "stdout",
     "output_type": "stream",
     "text": [
      "His name is John Doe\n"
     ]
    }
   ],
   "source": [
    "console.log(\"His name is \" + firstName + \" \" + lastName);"
   ]
  },
  {
   "cell_type": "markdown",
   "id": "78797938-5e3f-4b48-81c5-f3240badeaa9",
   "metadata": {},
   "source": [
    "We can also use operators on variables. For instance we will use the equality operator to see\n",
    "if the 2 variables below are equal. It will return true or false:"
   ]
  },
  {
   "cell_type": "code",
   "execution_count": 14,
   "id": "621b341d-03d9-47d5-978a-5d3ee28fba87",
   "metadata": {},
   "outputs": [],
   "source": [
    "let trainTicketValue = 5;\n",
    "let trainNumber = 4;"
   ]
  },
  {
   "cell_type": "code",
   "execution_count": 15,
   "id": "dbe82790-4446-475a-862d-f19c197e3cc5",
   "metadata": {},
   "outputs": [
    {
     "name": "stdout",
     "output_type": "stream",
     "text": [
      "false\n"
     ]
    }
   ],
   "source": [
    "console.log(trainTicketValue == trainNumber);"
   ]
  },
  {
   "cell_type": "markdown",
   "id": "64ff3975-3a9a-4315-8e10-1d6612c4d44e",
   "metadata": {},
   "source": [
    "# Changing Variable Assignments\n",
    "***\n",
    "Variables defined with let and var can be changed. CONST variables cannot be changed. In\n",
    "the example below we set the variable to a value, then change it. Notice the output takes the\n",
    "last value. IT does not mean that the variable was not the initial value, you just are printing\n",
    "the last value because the program is executing in a procedural step by step manner. Notice\n",
    "that when we mutate the variable we dont use the declaration keyword again. __NOTE:__ In\n",
    "Jupyter, mutating (changing) a variable name will print it out. This is __NOT__ the case in other \n",
    "IDE's, you will only see output when logging to the console."
   ]
  },
  {
   "cell_type": "code",
   "execution_count": 16,
   "id": "28214dfc-c28c-4b37-b4f8-eb1efe1e0037",
   "metadata": {},
   "outputs": [
    {
     "data": {
      "text/plain": [
       "10"
      ]
     },
     "execution_count": 16,
     "metadata": {},
     "output_type": "execute_result"
    }
   ],
   "source": [
    "let numOfCows = 10;\n",
    "numOfCows = 5;\n",
    "numOfCows = 10;"
   ]
  },
  {
   "cell_type": "code",
   "execution_count": 17,
   "id": "7cc90c9b-9125-4e71-9730-e70fe57ab49a",
   "metadata": {
    "scrolled": true
   },
   "outputs": [
    {
     "name": "stdout",
     "output_type": "stream",
     "text": [
      "10\n"
     ]
    }
   ],
   "source": [
    "console.log(numOfCows);"
   ]
  },
  {
   "cell_type": "code",
   "execution_count": 18,
   "id": "e4b43b35-3c30-4fbc-9d33-e178bec1407c",
   "metadata": {},
   "outputs": [
    {
     "data": {
      "text/plain": [
       "'Im a crow'"
      ]
     },
     "execution_count": 18,
     "metadata": {},
     "output_type": "execute_result"
    }
   ],
   "source": [
    "let murderOfCrows = 5 + 5;\n",
    "murderOfCrows = 1000000 * 7;\n",
    "murderOfCrows = \"Im a crow\";"
   ]
  },
  {
   "cell_type": "code",
   "execution_count": 19,
   "id": "802ae3d3-f644-41ab-acdb-b1984c7cf88e",
   "metadata": {},
   "outputs": [
    {
     "name": "stdout",
     "output_type": "stream",
     "text": [
      "Im a crow\n"
     ]
    }
   ],
   "source": [
    "console.log(murderOfCrows);"
   ]
  }
 ],
 "metadata": {
  "kernelspec": {
   "display_name": "JavaScript (Node.js)",
   "language": "javascript",
   "name": "javascript"
  },
  "language_info": {
   "file_extension": ".js",
   "mimetype": "application/javascript",
   "name": "javascript",
   "version": "20.9.0"
  }
 },
 "nbformat": 4,
 "nbformat_minor": 5
}
