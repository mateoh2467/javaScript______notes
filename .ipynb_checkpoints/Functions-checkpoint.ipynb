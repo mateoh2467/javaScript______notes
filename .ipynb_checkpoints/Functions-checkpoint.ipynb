{
 "cells": [
  {
   "cell_type": "markdown",
   "id": "5320bd3e-9e4d-480b-90b5-53aef7296a5f",
   "metadata": {},
   "source": [
    "### Functions In Javascript\r\n",
    "\r\n",
    "Documentatiolocated te<a href=\"https://www.w3schools.com/js/js_functions.asp\">here</.>r\n",
    "<hr>___.\r\n",
    "Funco____ns: Functions are one of the fundamental building blocks in JavaScript. A function in\r\n",
    "JavaScript is similar to a procedure—a set of statements that performs a task or calculates a\r\n",
    "value, but for a procedure to qualify as a function, it should take some input and return an\r\n",
    "output. Functions are repeatable lines of code that make our programs neater and easier to\r\n",
    "r nd### ###  run.\r\n",
    "\r\n",
    "Defining Functions\r\n",
    "\r\n",
    "In JavaScript, in order to create a function there is a syntax that we use. There are multiple\r\n",
    "ways to create functions in Javascript, we will talk about different ____ways belo\r\n",
    "Function ____Declarations:\r\n",
    "A function definition (also called a function declaration, or function statement) consists of\r\n",
    "the function keyword, followed by:\r\n",
    "he1. The name of function.\r\n",
    "2. . A list of parameters to the function, enclosed in parentheses and separatej commas.\r\n",
    "3. The savaScript statements that define the function, encles, {t { /* ... */ }.r*<br><font color = \"blue\"> </font></font>... */ }.\r\n",
    "Example:"
   ]
  },
  {
   "cell_type": "code",
   "execution_count": null,
   "id": "8936df40-98b1-4996-bdbf-92b2f70ab1f9",
   "metadata": {},
   "outputs": [],
   "source": [
    "function square(number){\n",
    "    return number * number;\n",
    "}"
   ]
  },
  {
   "cell_type": "markdown",
   "id": "cca17a93-03e0-4696-b4eb-3ab4a3514aa8",
   "metadata": {},
   "source": [
    "In the example above the function called square takes a single parameter, which is the word enclosed in parenthesis. The function then utilizes the return keyword to pass the result of the parameter out of the function.\n",
    "\n",
    "__Parameter:__ A parameter in programming is a named variable used only in a function or method <font color = \"red\">definition</font>. It acts like a variable, a placeholder that recieves and holds the values <font color =\"red\">passed</font> to the function when its <font color =\"red\">called</font>. \n",
    "\n",
    "__Return:__ A return statement in a function is an optional statement that exists the function and returns a value to the program, outside of the block of the function. Any code following \r\n",
    "the return statement is not executed. If a functiondoesn'tt have a return statement, or if no return value is specified, the function returns as undefined. "
   ]
  }
 ],
 "metadata": {
  "kernelspec": {
   "display_name": "JavaScript (Node.js)",
   "language": "javascript",
   "name": "javascript"
  },
  "language_info": {
   "file_extension": ".js",
   "mimetype": "application/javascript",
   "name": "javascript",
   "version": "20.9.0"
  }
 },
 "nbformat": 4,
 "nbformat_minor": 5
}
