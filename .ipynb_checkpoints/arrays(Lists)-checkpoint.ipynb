{
 "cells": [
  {
   "cell_type": "markdown",
   "id": "d9dbed75-8391-4861-9d41-2cedbc6bea1f",
   "metadata": {},
   "source": [
    "# JavaScript Lists(Arrays)\n",
    "***\n",
    "Documentation located <a href=\"https://developer.mozilla.org/en-US/docs/Web/JavaScript/Reference/Global_Objects/Array\">here</a>."
   ]
  },
  {
   "cell_type": "markdown",
   "id": "34578daf-d150-4420-80d3-a3c41597610a",
   "metadata": {},
   "source": [
    "__JavaScript Lists:__ Commonly referred to as Arrays, are a way to store multiple values in a single variable. Arrays are incredibly useful for managing and manipulating sets of data. "
   ]
  },
  {
   "cell_type": "markdown",
   "id": "23fc598b-0749-4c0c-85fe-de6c74051e23",
   "metadata": {},
   "source": [
    "# Creating and Initializing Arrays\n",
    "***\n",
    "An array can hold a collection of items, which can be of various data types such as strings, numbers, booleans, and even other arrays or objects. \n",
    "\n",
    "__Syntax__\n",
    "\n",
    "To create an array, you use square brackets []. You can initialize an array with items or start with an empty array."
   ]
  },
  {
   "cell_type": "code",
   "execution_count": 1,
   "id": "0572139d-2aef-4b30-bf52-b113becc9b94",
   "metadata": {},
   "outputs": [],
   "source": [
    "// Initializing an empty array\n",
    "let fruits = [];\n",
    "\n",
    "// Initializing an array with items\n",
    "let colors = [\"red\", \"green\", \"blue\"];"
   ]
  },
  {
   "cell_type": "markdown",
   "id": "6a5a6b72-92c1-4600-b697-f576e6039255",
   "metadata": {},
   "source": [
    "# Accessing Array Elements\n",
    "***\n",
    "Each item in an array has an index, starting from 0. You can access an element by using its index inside square brackets. \n",
    "\n",
    "# <font color = \"red\">IMPORTANT NOTE: THE AP CSP EXAM STARTS INDEXES AT 1 NOT 0, CONTRARY TO MANY PROGRAMMING LANGUAGES.</font>"
   ]
  },
  {
   "cell_type": "code",
   "execution_count": 2,
   "id": "29b6526f-4fd9-4f88-80b5-711ad970bea8",
   "metadata": {},
   "outputs": [
    {
     "name": "stdout",
     "output_type": "stream",
     "text": [
      "red\n"
     ]
    }
   ],
   "source": [
    "let firstColor = colors[0]; // Accessing the first item, red\n",
    "console.log(firstColor); // Output: \"red\""
   ]
  },
  {
   "cell_type": "markdown",
   "id": "fc373ff6-1301-4e18-a8bf-686f11d5b1d2",
   "metadata": {},
   "source": [
    "# Modifying Arrays\n",
    "***\n",
    "Arrays are mutuable, meaning you can modify them after creation."
   ]
  },
  {
   "cell_type": "code",
   "execution_count": 3,
   "id": "0a0a7851-a825-4597-899c-607f13365425",
   "metadata": {},
   "outputs": [
    {
     "data": {
      "text/plain": [
       "4"
      ]
     },
     "execution_count": 3,
     "metadata": {},
     "output_type": "execute_result"
    }
   ],
   "source": [
    "// Changing an element\n",
    "colors[1] = \"yellow\"; // Changing \"green\" to \"yellow\"\n",
    "\n",
    "// Adding a new element\n",
    "colors.push(\"purple\"); //Adding \"purple\" to the end"
   ]
  },
  {
   "cell_type": "markdown",
   "id": "a4246b7f-6a4d-4aca-8ef5-ae4b6b57ddde",
   "metadata": {},
   "source": [
    "# Array Properties and Methods\n",
    "***\n",
    "Arrays come with various properties and methods for manipulation and inspection. We will mostly need the length property and a variety of methods listed below.\n",
    "\n",
    "__Length Property__ \n",
    "\n",
    "The length property outputs the number of items in the array."
   ]
  },
  {
   "cell_type": "code",
   "execution_count": 4,
   "id": "22053a41-905f-4ac1-b397-adb35331627c",
   "metadata": {},
   "outputs": [
    {
     "name": "stdout",
     "output_type": "stream",
     "text": [
      "4\n"
     ]
    }
   ],
   "source": [
    "console.log(colors.length); // Output: the number of elements in colors array"
   ]
  },
  {
   "cell_type": "markdown",
   "id": "d0fed3ed-7d51-4f28-87cb-295efc6fa192",
   "metadata": {},
   "source": [
    "__Common Array Methods__"
   ]
  },
  {
   "cell_type": "code",
   "execution_count": null,
   "id": "bfaf3849-705e-4e7f-9de2-c4f8987a8d7c",
   "metadata": {},
   "outputs": [],
   "source": [
    "// Adding an element to the end of the array\n",
    "array.push(element);\n",
    "\n",
    "// Removing the last element of the array\n",
    "array.pop();\n",
    "\n",
    "// Adding an element to the beginning of the array\n",
    "array.unshift(element);\n",
    "\n",
    "// Removing the first element of the array\n",
    "array.shift();\n",
    "\n",
    "// Finding the index of an element in the array\n",
    "let index = array.indexOf(element);\n",
    "\n",
    "// Removing elements from an array (starting index, number of elements to remove)\n",
    "array.splice(startIndex, deleteCount);\n",
    "\n",
    "// Adding elements to an array (starting index, number of elements to delete, elements to add)\n",
    "array.splice(startIndex, deleteCount, newElement1, newElement2, ...);\n",
    "\n",
    "// Creating a shallow copy of a part of an array (start index, end index)\n",
    "let newArray = array.slice(startIndex, endIndex);\n",
    "\n",
    "// Joining all elements of an array into a string (separator)\n",
    "let str = array.join(separator);\n",
    "\n",
    "// Reversing the elements in the array\n",
    "array.reverse();\n",
    "\n",
    "// Sorting the elements in the array\n",
    "array.sort();\n",
    "\n",
    "// Iterating over each element in the array\n",
    "array.forEach(function(element, index) {\n",
    "    // Code to execute for each element\n",
    "});\n",
    "\n",
    "// Transforming elements in the array and creating a new array\n",
    "let newArray = array.map(function(element, index) {\n",
    "    // Return new value for the element\n",
    "});\n",
    "\n",
    "// Filtering elements in the array based on a condition\n",
    "let filteredArray = array.filter(function(element, index) {\n",
    "    // Return true to keep the element, false to filter it out\n",
    "});\n",
    "\n",
    "// Checking if any element in the array passes a test\n",
    "let result = array.some(function(element, index) {\n",
    "    // Return true or false based on condition\n",
    "});\n",
    "\n",
    "// Checking if all elements in the array pass a test\n",
    "let allPass = array.every(function(element, index) {\n",
    "    // Return true or false based on condition\n",
    "});\n",
    "\n",
    "// Reducing the array to a single value\n",
    "let result = array.reduce(function(accumulator, element, index) {\n",
    "    // Return updated accumulator\n",
    "}, initialValue);\n",
    "\n",
    "// Finding the first element in the array that satisfies a condition\n",
    "let foundElement = array.find(function(element, index) {\n",
    "    // Return true if this is the element you are looking for\n",
    "});\n",
    "\n",
    "// Finding the index of the first element in the array that satisfies a condition\n",
    "let foundIndex = array.findIndex(function(element, index) {\n",
    "    // Return true if this is the element you are looking for \n",
    "});\n",
    "\n",
    "// Concatenating multiple arrays\n",
    "let newArray = array1.concat(array2, array3, ...);"
   ]
  },
  {
   "cell_type": "markdown",
   "id": "bf4c3b5f-5b8c-4b1f-8e7b-a5dc0191c18b",
   "metadata": {},
   "source": [
    "# Looping Through Arrays\n",
    "***\n",
    "To iterate over an array, you can use loops like `for`, `forEach`, `for...of`."
   ]
  },
  {
   "cell_type": "code",
   "execution_count": null,
   "id": "8c01b91a-2de5-4c22-b769-9fc71f03b041",
   "metadata": {},
   "outputs": [],
   "source": [
    "// Using forEach\n",
    "colors.forEach(fucntion(color) {\n",
    "    console.log(color);\n",
    "});\n",
    "\n",
    "// Using for...of\n",
    "for (let color of colors) {\n",
    "    console.log(color);\n",
    "}"
   ]
  },
  {
   "cell_type": "markdown",
   "id": "15b58144-e485-4127-970a-2a6281a84c12",
   "metadata": {},
   "source": [
    "# Multidimentional Arrays\n",
    "***\n",
    "Arrays can contain other arrays, creating a multidimensional array."
   ]
  },
  {
   "cell_type": "code",
   "execution_count": null,
   "id": "3507ae14-a661-448b-a6a2-1facc395631a",
   "metadata": {},
   "outputs": [],
   "source": [
    "let matrix = [\n",
    "    [1, 2, 3]\n",
    "    [4, 5, 6]\n",
    "    [7, 8, 9]\n",
    "];\n",
    "\n",
    "console.log(matrix[1][2]); // Accessing the third element of the second array"
   ]
  },
  {
   "cell_type": "markdown",
   "id": "e0fe4541-f875-453d-a0f5-19493c6940b1",
   "metadata": {},
   "source": [
    "# Use Cases\n",
    "***\n",
    "__Data Collection and Management:__ Arrays are ideal for collecting and managing sets of data, such as user inputs, records from a database, or any set of values. They provide a structured way to store and access this data.\n",
    "\n",
    "__Data Manipulation:__ You can perform various operations on arrays like sorting, filtering, and mapping to manipulate data. For instance, soting user data based on criteria, filtering a list of products based on categories, or transforming data into a new format for presentation.\n",
    "\n",
    "__Mathematical Computations:__ Arrays can store numerical data and are useful in mathematical computations. You can use them for statistical analysis, such as calculating averages, sums, or other complex mathematical operations.\n",
    "\n",
    "__UI Components:__ In web development, arrays are often used to manage lists of UI elements. For example, displaying a list of items in a dropdown menu, a table of data, or a carousel of images.\n",
    "\n",
    "__Stacks and Queues Implementaiton:__ Arrays can be used to implement other data structures like stacks and queues. For example, using push and pop methods for stack operations, and shift and push for queue operations. \n",
    "\n",
    "__Graphs and Trees Data Structure:__ Arrays can represent more complex data structures like graphs (as adjacency lists or matrices) and trees (like binary trees, where each element has references to its children). \n",
    "\n",
    "__Algorithms Implementation:__ Arrays are fundamental in implementing various algorithms, especially those involving sorting and searching. Theyr are often the unerlying data strucuter used to store data duing these operations.\n",
    "\n",
    "__Combining and Splitting Data:__ Using methods like concat, slice, and splice, arrays can be easily combined, partitioned, or recorded, which is useful in many applications like data processing or handling user-generated content.\n",
    "\n",
    "__Temporary Storage:__ Arrays are useful as a temporary storage mechanism when processing or manpulating data. For example, storing the results of intermediate steops in a complex calculation or algorithm.\n",
    "\n",
    "__Multi-Dimensional Data:__ Arrays can store multi-dimensional data, making them useful for scenarious like representing matrices in mathematical computations, pixel data in images, or multi-dimensional maps in games or simulations. \n",
    "\n",
    "__Functional Programming:__ Arrays in JavaScript work well with functional programming concepts, using methods like map, filter, reduce, which allow for operations on arrays without mutating them.\n",
    "\n",
    "__Batch Operations:__ Performing operations on multiple items at once, like updating a set of records or applying a function across multiple elements. "
   ]
  }
 ],
 "metadata": {
  "kernelspec": {
   "display_name": "JavaScript (Node.js)",
   "language": "javascript",
   "name": "javascript"
  },
  "language_info": {
   "file_extension": ".js",
   "mimetype": "application/javascript",
   "name": "javascript",
   "version": "20.9.0"
  }
 },
 "nbformat": 4,
 "nbformat_minor": 5
}
