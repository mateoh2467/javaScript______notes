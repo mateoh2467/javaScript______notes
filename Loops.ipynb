{
 "cells": [
  {
   "cell_type": "markdown",
   "id": "29db7581-d663-4929-98e4-e04133433d7d",
   "metadata": {},
   "source": [
    "# Loops in Javascript \n",
    "***\n",
    "Documentation located <a href=\"https://developer.mozilla.org/en-US/docs/Web/JavaScript/Guide/Loops_and_iteration\">here</a>.<br>\n",
    "\n",
    "__The Purpose of Loops__\n",
    "\n",
    "Loops are a fundamental construct in programming used to automate repetitive tasks, thereby making code more efficient and less cluttered. They are particularly useful in various scenarios, such as processing lists or arrays, repeating actions, or handling user inputs. Loops typically utilize an iterator variable, which tracks the state or progress of the loop. This iterator is often integral to the condition that determines when the loop starts and stops. By evaluating this condition, the loop can execute its code block repeatedly until the specified condition is no longer met. \n",
    "\n",
    "Iterator variables can have any name, yet often are represented by the letter `i` or another short letter.\n",
    "\n",
    "Note that in loops we often have a condition to change or modify the condition.\n",
    "\n",
    "Loops, like most logic in programming can be evaluating to `True` or `False`.\n",
    "\n",
    "## Types of Loops\n",
    "***\n",
    "__While Loops__\n",
    "\n",
    "A \"While\" Loop is used to repeat a specific block of code an __unknown__ number of times, until a certain condition is met. For example, if we want to ask a user for a number between 1 and 10, we don't know how many times the user may enter a large number, so we keep asking \"while the number is not between 1 and 10\". If we (or the computer) knows exactly how many times to execute a section of code (such as shuffling a deck of cards) we use a for loop."
   ]
  },
  {
   "cell_type": "code",
   "execution_count": 2,
   "id": "e6b85dd1-8605-4f01-af00-b975c666f9f1",
   "metadata": {},
   "outputs": [
    {
     "name": "stdout",
     "output_type": "stream",
     "text": [
      "1Silly looking dogs\n",
      "2Silly looking dogs\n",
      "3Silly looking dogs\n",
      "4Silly looking dogs\n"
     ]
    },
    {
     "data": {
      "text/plain": [
       "4"
      ]
     },
     "execution_count": 2,
     "metadata": {},
     "output_type": "execute_result"
    }
   ],
   "source": [
    "//This loop just counts from 1 to 4 and prints out the loops iterator variable value \n",
    "\n",
    "let i = 1\n",
    "\n",
    "while (i < 5){\n",
    "    console.log(i + \"Silly looking dogs\");\n",
    "    i++;\n",
    "}"
   ]
  },
  {
   "cell_type": "markdown",
   "id": "5e209388-4f08-4524-bc49-8151b92219db",
   "metadata": {},
   "source": [
    "Note: Please note the `i++` which is incrementing the value of `i`. Without this this `while` loop would be stuck forever, since the condition is not being changed or satisfied. "
   ]
  },
  {
   "cell_type": "code",
   "execution_count": 3,
   "id": "a94a21bb-8dc4-49e3-8e6d-0f1bfb6808aa",
   "metadata": {},
   "outputs": [
    {
     "name": "stdout",
     "output_type": "stream",
     "text": [
      "10\n",
      "9\n",
      "8\n",
      "7\n",
      "6\n",
      "5\n",
      "4\n",
      "3\n",
      "2\n",
      "1\n"
     ]
    },
    {
     "data": {
      "text/plain": [
       "1"
      ]
     },
     "execution_count": 3,
     "metadata": {},
     "output_type": "execute_result"
    }
   ],
   "source": [
    "//Counts down from a number. The -- is decrementing the value as opposed to ++ which is increasing the value \n",
    "let count = 10;\n",
    "\n",
    "while (count > 0){\n",
    "    console.log(count);\n",
    "    count--;\n",
    "}"
   ]
  },
  {
   "cell_type": "code",
   "execution_count": 1,
   "id": "d587e4c3-9356-4626-8a4c-484403186e33",
   "metadata": {},
   "outputs": [
    {
     "name": "stdout",
     "output_type": "stream",
     "text": [
      "Sum is: 55\n"
     ]
    }
   ],
   "source": [
    "//Calculates the sum of a number from 1 to 10\n",
    "let sum = 0;\n",
    "let number = 1; \n",
    "while (number <= 10) {\n",
    "    sum += number; //same as sum = sum + number \n",
    "    number++;\n",
    "}\n",
    "console.log(\"Sum is:\", sum);"
   ]
  },
  {
   "cell_type": "markdown",
   "id": "41618b50-5555-4580-a9d7-4379b326df5f",
   "metadata": {},
   "source": [
    "__For Loops__ \n",
    "A \"For\" Loop is used to repeat a specific block of code a __known__ number of times. For example, if we want to check the grade of every student in the class, we loop from 1 to that number. When the number of times is not known before hand, we use a \"While\" loop.\n",
    "\n",
    "The loop is used to repeat a section of code a known number of times. Sometimes it is the computer that knows how many times, but not you, but it is still known. Some examples: \n",
    "\n",
    "_Unknown number of times:_\n",
    "\n",
    "\"Ask the User to Guess a pre-determined number between 1 and 100\". You have no way of knowing how many guesses it will take. \n",
    "\n",
    "\"Randomly look in an array for a given value.\" You have no way of knowing how many tries it will take to find the actual value.\n",
    "\n",
    "__Note:__ _this is a made-up example, because you never randomly look into an array to find a value. You would always start at the front of the array and look one element at a time until you found the item or got to the end of the array._\n",
    "\n",
    "_Known number of times:_\n",
    "\n",
    "Compute the average grade of the class. While you (the programmer) might not know how many grades exist in the class, the computer will know. Usually, this is accomplished by using the \"length\" function on an array.\n",
    "\n",
    "Print the odd numbers from 1 to 1001. \n",
    "\n",
    "Search a list (array) of numbers for the biggest grade. Again, the computer \"knows\" how many grades there are, so a for loop is appropriate. "
   ]
  },
  {
   "cell_type": "code",
   "execution_count": 4,
   "id": "9fcfcfa9-2e56-4289-a1b5-cc23992a2856",
   "metadata": {},
   "outputs": [
    {
     "name": "stdout",
     "output_type": "stream",
     "text": [
      "1\n",
      "2\n",
      "3\n",
      "4\n",
      "5\n"
     ]
    }
   ],
   "source": [
    "//Prints out `i` 5 times.\n",
    "for(let i = 1; i <= 5; i++){\n",
    "    console.log(i);\n",
    "}"
   ]
  },
  {
   "cell_type": "markdown",
   "id": "381fc1a5-6a7a-40f0-967d-70ff3af1e10f",
   "metadata": {},
   "source": [
    "Note that this will run for as long as the condition is false, as dictated by the iterator variable. "
   ]
  },
  {
   "cell_type": "code",
   "execution_count": 5,
   "id": "d5f0acb1-2c76-411b-bd37-ff5f8739c90f",
   "metadata": {},
   "outputs": [
    {
     "name": "stdout",
     "output_type": "stream",
     "text": [
      "Pear located in list\n"
     ]
    }
   ],
   "source": [
    "//Iterates through a list to check if the specified element is in the list \n",
    "\n",
    "const fruits = [\"Apple\", \"Pear\", \"Cherry\", \"Date\"]\n",
    "\n",
    "for(let i = 0; i < fruits.length; i++){\n",
    "    if(fruits[i] === \"Pear\"){\n",
    "        console.log(\"Pear located in list\");\n",
    "    }\n",
    "}"
   ]
  },
  {
   "cell_type": "markdown",
   "id": "04693c21-47b1-4e64-bf0e-1c7a56bef4bd",
   "metadata": {},
   "source": [
    "Note that we can look at the length of the list using the .length() list method. This is an easy way of telling the computer you want the length of the list. We can also use it to see how many items are in the list. Lets look at another example below. "
   ]
  },
  {
   "cell_type": "code",
   "execution_count": 6,
   "id": "7294c984-f422-449b-8c8f-e00def2f3cbc",
   "metadata": {},
   "outputs": [
    {
     "name": "stdout",
     "output_type": "stream",
     "text": [
      "Nicole is student number 1\n",
      "Kye is student number 2\n",
      "Leila is student number 3\n"
     ]
    }
   ],
   "source": [
    "//Looks through a list of students and and lists what number each student is\n",
    "let studentList = [\"Nicole\", \"Kye\", \"Leila\"];\n",
    "\n",
    "for(let i = 0; i < studentList.length; i++){\n",
    "    console.log(studentList[i] + \" is student number \" + (i + 1));\n",
    "}\n",
    "    "
   ]
  },
  {
   "cell_type": "code",
   "execution_count": 12,
   "id": "cc15e03d-ede0-4f92-97f3-4c59d28a2351",
   "metadata": {},
   "outputs": [
    {
     "name": "stdout",
     "output_type": "stream",
     "text": [
      "Total Sum: 150\n"
     ]
    }
   ],
   "source": [
    "//Sums list items\n",
    "let numbers = [10, 20, 30, 40, 50];\n",
    "let sumTwo = 0;\n",
    "for (let i = 0; i < numbers.length; i++) {\n",
    "    sumTwo += numbers[i]; \n",
    "}\n",
    "console.log(\"Total Sum:\", sumTwo);"
   ]
  },
  {
   "cell_type": "markdown",
   "id": "80811fbd-d11c-47c6-8515-a5c0ed9f7029",
   "metadata": {},
   "source": [
    "__do..while loops__\n",
    "\n",
    "Executes at least once, even if the condition is initially false."
   ]
  },
  {
   "cell_type": "code",
   "execution_count": 13,
   "id": "37c6149e-5227-4925-bd1a-80e54ffdc510",
   "metadata": {},
   "outputs": [
    {
     "name": "stdout",
     "output_type": "stream",
     "text": [
      "User Input: 0.312705427006601\n",
      "User Input: 0.35968891925677715\n",
      "User Input: 0.8064757298795038\n"
     ]
    }
   ],
   "source": [
    "//Takes an input, then prints out the userInput, this continues until a number less than 0.5 is equal to the userInput\n",
    "let userInput;\n",
    "do {\n",
    "    userInput = Math.random(); // Simulate user input with random number \n",
    "    console.log(\"User Input:\", userInput);\n",
    "} while (userInput < 0.5);"
   ]
  },
  {
   "cell_type": "code",
   "execution_count": 1,
   "id": "814f0d9f-f4b5-49b4-aa33-3307106633da",
   "metadata": {},
   "outputs": [
    {
     "name": "stdout",
     "output_type": "stream",
     "text": [
      "Generated Number: 89\n",
      "Generated Number: 43\n",
      "Generated Number: 84\n"
     ]
    }
   ],
   "source": [
    "//Generating a random number until its even. Checking for an even number with the modulo/remainder operator\n",
    "let randomNumber;\n",
    "\n",
    "do {\n",
    "    randomNumber = Math.floor(Math.random() * 100); // Random number between 0 and 99 NOT 100 \n",
    "    console.log(\"Generated Number:\", randomNumber);\n",
    "} while (randomNumber % 2 !== 0); //Continue if the number is odd"
   ]
  },
  {
   "cell_type": "markdown",
   "id": "23b82b3b-a69d-40fe-ba73-f139c0ea7963",
   "metadata": {},
   "source": [
    "## Common Mistakes \n",
    "*** \n",
    "__Infinite Loops__ \n",
    "\n",
    "- Occur when the loop's exit condition is never met\n",
    "- Common in while and do...while loops if the condition for exiting the loop is not properly updated within the loop.\n",
    "\n",
    "__Example:__"
   ]
  },
  {
   "cell_type": "code",
   "execution_count": 1,
   "id": "170f2657-cae4-4e91-9561-b5f52fa8ba87",
   "metadata": {},
   "outputs": [
    {
     "name": "stdout",
     "output_type": "stream",
     "text": [
      "I will print forever\n",
      "I will print forever\n",
      "I will print forever\n"
     ]
    },
    {
     "data": {
      "text/plain": [
       "4"
      ]
     },
     "execution_count": 1,
     "metadata": {},
     "output_type": "execute_result"
    }
   ],
   "source": [
    "let x = 2; \n",
    "\n",
    "while (x < 5){\n",
    "    console.log(\"I will print forever\");\n",
    "    x++; //if this wasn't here it would print forever\n",
    "}"
   ]
  },
  {
   "cell_type": "markdown",
   "id": "32fb1566-cdee-4e98-a872-8d9f3412c715",
   "metadata": {},
   "source": [
    "__Off By One Errors__\n",
    "\n",
    "* Incorrectly setting up loop boundaries, causing one too many or one too few iterations."
   ]
  },
  {
   "cell_type": "code",
   "execution_count": 3,
   "id": "2207bf12-bb8a-4f7c-b4d1-d2ea104b981c",
   "metadata": {},
   "outputs": [
    {
     "name": "stdout",
     "output_type": "stream",
     "text": [
      "1\n",
      "2\n",
      "3\n",
      "4\n",
      "5\n",
      "undefined\n"
     ]
    }
   ],
   "source": [
    "// Off-by-one error: iterates one extra time \n",
    "let array = [1, 2, 3, 4, 5];\n",
    "for (let i = 0; i <= array.length; i++) {\n",
    "    console.log(array[i]);\n",
    "}"
   ]
  },
  {
   "cell_type": "markdown",
   "id": "4d8b25e2-95b4-469d-8a15-12c95be2e814",
   "metadata": {},
   "source": [
    "__Undefined Scope of Varibles__"
   ]
  },
  {
   "cell_type": "code",
   "execution_count": 4,
   "id": "f5c6fef7-435d-465a-bae9-d021d7412563",
   "metadata": {},
   "outputs": [
    {
     "ename": "ReferenceError",
     "evalue": "i is not defined",
     "execution_count": 4,
     "output_type": "error",
     "traceback": [
      "evalmachine.<anonymous>:5",
      "console.log(i); //Error: 'i' is not defined, it doesn't exist outside the loop",
      "            ^",
      "",
      "ReferenceError: i is not defined",
      "    at evalmachine.<anonymous>:5:13",
      "    at Script.runInThisContext (node:vm:122:12)",
      "    at Object.runInThisContext (node:vm:296:38)",
      "    at run ([eval]:1020:15)",
      "    at onRunRequest ([eval]:864:18)",
      "    at onMessage ([eval]:828:13)",
      "    at process.emit (node:events:514:28)",
      "    at emit (node:internal/child_process:951:14)",
      "    at process.processTicksAndRejections (node:internal/process/task_queues:83:21)"
     ]
    }
   ],
   "source": [
    "//Variable 'i' should be accessible outside the loop\n",
    "for (let i = 0; i < 5; i++){\n",
    "    //Loop logic\n",
    "}\n",
    "console.log(i); //Error: 'i' is not defined, it doesn't exist outside the loop"
   ]
  },
  {
   "cell_type": "markdown",
   "id": "2f314ee3-d170-4722-8511-daa9c2bbcbef",
   "metadata": {},
   "source": [
    "__Misunderstanding Loop Conditions__\n",
    "\n",
    "This happens when you confuse assignment and comparison operators."
   ]
  },
  {
   "cell_type": "code",
   "execution_count": null,
   "id": "899e4f9b-3c2c-4533-a40e-3e63fb3928a0",
   "metadata": {},
   "outputs": [],
   "source": [
    "let i = 0;\n",
    "while (i = 5) { //Mistakenly using assignment '=' instead of '=='\n",
    "//Loop logic\n",
    "}"
   ]
  },
  {
   "cell_type": "markdown",
   "id": "e0a0989b-83fc-4a4e-92f2-4bace53998a4",
   "metadata": {},
   "source": [
    "## Best Practices\n",
    "***\n",
    "__Clearly Define Loop Conditions:__\n",
    "- Ensure loop conditions are explicit to avoid infinite loops\n",
    "- Regularly update the condition within the loop as needed\n",
    "\n",
    "__Use the Most Appropriate Loop Type:__\n",
    "- Choose for loops for known iteration counts.\n",
    "- Opt for while loops when the number of iterations is not predetermined\n",
    "- Use do..while loops when the loop body must execute at least once.\n",
    "\n",
    "__Properly Initialize Loop Variables:__\n",
    "- Declare and initialize all loop variables clearly\n",
    "- Consider the scope of these variables, especially in for loops.\n",
    "\n",
    "__Keep Loop Bodies Simple and Clear:__\n",
    "- Avoid overcomplicating the code inside loops.\n",
    "- Strive for readability and maintainability\n",
    "\n",
    "__Avoid 'Magic Numbers':__\n",
    "- Use named constants or variables instead of hard-coded numbers in loop conditions.\n",
    "- This enhances the readability and adaptability of the code.\n",
    "\n",
    "__Comment and Document Complex Loops:__\n",
    "- Provide clear comments or variables instead of hard-coded numbers in loop conditions.\n",
    "- This enhances the readability and adaptability of the code\n",
    "\n",
    "__Test Loops with Edge Cases:__\n",
    "- Ensure loops are tested with a variety of inputs, including boundary values and edge cases.\n",
    "- This helps to confirm the loop behaves as expected in all scenarios.\n",
    "\n",
    "__Refactor and Optimize When Necessary:__\n",
    "- Revisit and refactor loop logic for efficiency and clarity\n",
    "- Consider an alternative approach if a loop seems overly complex or inefficient "
   ]
  }
 ],
 "metadata": {
  "kernelspec": {
   "display_name": "JavaScript (Node.js)",
   "language": "javascript",
   "name": "javascript"
  },
  "language_info": {
   "file_extension": ".js",
   "mimetype": "application/javascript",
   "name": "javascript",
   "version": "20.9.0"
  }
 },
 "nbformat": 4,
 "nbformat_minor": 5
}
