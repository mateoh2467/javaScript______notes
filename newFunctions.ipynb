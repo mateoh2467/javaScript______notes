{
 "cells": [
  {
   "cell_type": "markdown",
   "id": "05efbfed-63f5-410d-8f58-257ea5c14df1",
   "metadata": {},
   "source": [
    "# Functions In Javascript\n",
    "\n",
    "Documentation located <a href=\"https://www.w3schools.com/js/js_functions.asp\">here</a>.\n",
    "<hr>\n",
    "\n",
    "\n",
    "__Functions:__ Functions are one of the fundamental building blocks in JavaScript. A function in\n",
    "JavaScript is similar to a procedure—a set of statements that performs a task or calculates a\n",
    "value, but for a procedure to qualify as a function, it should take some input and return an\n",
    "output. Functions are repeatable lines of code that make our programs neater and easier to\n",
    "read and run.\n",
    "\n",
    "# Defining Functions\n",
    "\n",
    "In JavaScript, in order to create a function there is a syntax that we use. There are multiple\n",
    "ways to create functions in Javascript, we will talk about 2 different ways below.\n",
    "__Function Declarations:__\n",
    "A function definition (also called a function declaration, or function statement) consists of\n",
    "the function keyword, followed by:\n",
    "1. The name of the function.\n",
    "2. A list of parameters to the function, enclosed in parentheses and separated commas.\n",
    "3. The javaScript statements that define the function, enclosed in curly braces, {, { /* ... */ }. \n",
    "<br><font color = \"blue\">Example:</font>"
   ]
  },
  {
   "cell_type": "code",
   "execution_count": 2,
   "id": "9ae6db62-cd5a-4576-bfd3-817816135eee",
   "metadata": {},
   "outputs": [],
   "source": [
    "function square(number){\n",
    "    return number * number;\n",
    "}"
   ]
  },
  {
   "cell_type": "markdown",
   "id": "4ca73f67-c68a-4666-8325-b895fe1ffec1",
   "metadata": {},
   "source": [
    "In the example above the function called square takes a single parameter, which is the word enclosed in parenthesis. The function then utilizes the return keyword to pass the result of the parameter out of the function.\n",
    "\n",
    "__Parameter:__ A parameter in programming is a named variable used only in a function or method <font color = \"red\">definition</font>. It acts like a variable, a placeholder that recieves and holds the values <font color =\"red\">passed</font> to the function when its <font color =\"red\">called</font>. \n",
    "\n",
    "__Return:__ A return statement in a function is an optional statement that exists the function and returns a value to the program, outside of the block of the function. Any code following the return statement is _not_ executed. If a function doesn't have a return statement, or if no return value is specified, the function remains as _undefined_."
   ]
  },
  {
   "cell_type": "code",
   "execution_count": 4,
   "id": "00067b08-6cd8-4a69-a6ff-a0765cee39c3",
   "metadata": {},
   "outputs": [],
   "source": [
    "function sum(a, b) {\n",
    "    return a + b ; \n",
    "                   } "
   ]
  },
  {
   "cell_type": "markdown",
   "id": "7db52c9d-4aed-4f47-83c2-6f5580c69a01",
   "metadata": {},
   "source": [
    "In the function above we are utilizing 2 parameters and simply adding 2 numbers., A and B. We are then returning the value out of the function. However please note that functions need to have more than a definition which is seen above. We now need to call the function, in order to utilize it.is 8"
   ]
  },
  {
   "cell_type": "markdown",
   "id": "5aaa0164-fe69-4592-9c18-bb3bef3a1114",
   "metadata": {},
   "source": [
    "# Calling a Function \n",
    "<hr>\n",
    "\n",
    "__Function Call:__ A function call is when you _call_ or use the function you have created. Note that when you create a function it does not need to be used right away in a procedural order. You can create it and use it whenever you need, as many times as needed. Before calling the function you must define it in the steps above. The syntax for calling a function is below, we are using the function definition from the sum function we created above. Note that we are using something called <font color=\"red\">arguments</font> in a function call. \n",
    "\n",
    "__Argument:__ An argument is the value we input in the function call that is passed through the function via parameters. In other words the value of arguments are inputs and become the value of parameters in the function definition, much like how you assign a variable a value. __The position of arguments matter, the arguments fill in the parameters in the order in which they are written.__\n",
    "\n",
    "<font color=\"blue\">Syntax:</font> \n",
    "\n",
    "function_name (arguments); \n",
    "\n",
    "<font color=\"blue\">Example:</font> "
   ]
  },
  {
   "cell_type": "code",
   "execution_count": 7,
   "id": "2bf8ddc2-cee8-4f92-99e6-383d9b888978",
   "metadata": {},
   "outputs": [
    {
     "data": {
      "text/plain": [
       "8"
      ]
     },
     "execution_count": 7,
     "metadata": {},
     "output_type": "execute_result"
    }
   ],
   "source": [
    "sum(3, 5);"
   ]
  },
  {
   "cell_type": "markdown",
   "id": "4f646ba4-a490-4616-ba8a-9f8808c45b0a",
   "metadata": {},
   "source": [
    "Here is how we can _call_ the square function we defined before in our notes. \n",
    "\n",
    "<font color=\"blue\">Example:</font> "
   ]
  },
  {
   "cell_type": "code",
   "execution_count": 9,
   "id": "b8d3538d-34ed-4834-9039-1d400d921bce",
   "metadata": {},
   "outputs": [
    {
     "data": {
      "text/plain": [
       "25"
      ]
     },
     "execution_count": 9,
     "metadata": {},
     "output_type": "execute_result"
    }
   ],
   "source": [
    "square(5);"
   ]
  },
  {
   "cell_type": "markdown",
   "id": "fbbb7cf2-19e5-4224-aef2-a6ded6967875",
   "metadata": {},
   "source": [
    "<font color=\"blue\">Syntax:</font>"
   ]
  },
  {
   "cell_type": "markdown",
   "id": "56bb840d-8723-4cd0-a446-3000aa9cdd9b",
   "metadata": {},
   "source": [
    "# Function Definitions and Calls \n",
    "<hr>"
   ]
  },
  {
   "cell_type": "markdown",
   "id": "1f2c76c5-a407-4b41-892a-67e9e3d74184",
   "metadata": {},
   "source": [
    "We always utilize function definitions, calls, parameters, return and arguments together. Parameters, return statements and arguments are always optional. Below are some example are simple functions with their definitions and calls. __Note that Jupyter Lab will print these functions by default. You must create print statements / variables to actually see results of your functions in regular JS.__\n",
    "<br>\n",
    "\n",
    "<font color=\"blue\">Examples:</font>"
   ]
  },
  {
   "cell_type": "code",
   "execution_count": 10,
   "id": "efcb0337-a5e0-4194-9a3e-91c0f9fc1b74",
   "metadata": {},
   "outputs": [
    {
     "name": "stdout",
     "output_type": "stream",
     "text": [
      "Hello there Cooper\n"
     ]
    }
   ],
   "source": [
    "function greet(name) {\n",
    "    console.log(\"Hello there \" + name); \n",
    "} \n",
    "\n",
    "greet(\"Cooper\"); "
   ]
  },
  {
   "cell_type": "code",
   "execution_count": 11,
   "id": "b4c8c33f-a517-4226-ad6b-d2b24973b3bd",
   "metadata": {},
   "outputs": [
    {
     "name": "stdout",
     "output_type": "stream",
     "text": [
      "33\n"
     ]
    }
   ],
   "source": [
    "function ageFinder(dateOfBirth, currentYear) {\n",
    "    let age = currentYear - dateOfBirth;\n",
    "    return age; } \n",
    "console.log(ageFinder(1990, 2023)); "
   ]
  },
  {
   "cell_type": "markdown",
   "id": "e7a4c8d3-ca33-46bc-a30c-792a44100b12",
   "metadata": {},
   "source": [
    "# Returning vs. console.Log() in Functions \n",
    "<hr> \n",
    "Often when starting out we will only need to display the value of the result of the function. We can do this by simply logging the value to the console. However this is often not sufficient for programs. A printed value can only be used in the block, the problem will pop up when trying to use function values elsewhere. Lets take a look at this using a function below.\n",
    "<br>\n",
    "<br>\n",
    "<font color=\"blue\">Example:</font> "
   ]
  },
  {
   "cell_type": "code",
   "execution_count": 13,
   "id": "46b97b5b-904c-4665-8661-3239e857d610",
   "metadata": {},
   "outputs": [
    {
     "name": "stdout",
     "output_type": "stream",
     "text": [
      "10\n",
      "NaN\n"
     ]
    }
   ],
   "source": [
    "function printTen() {\n",
    "    console.log(10); \n",
    "} \n",
    "let value = printTen(); \n",
    "console.log(value * 2); "
   ]
  },
  {
   "cell_type": "code",
   "execution_count": 14,
   "id": "8eb837f3-0041-4105-9764-4935869ffe67",
   "metadata": {},
   "outputs": [
    {
     "name": "stdout",
     "output_type": "stream",
     "text": [
      "20\n"
     ]
    }
   ],
   "source": [
    "function returnTen() {\n",
    "    return 10; \n",
    "}\n",
    "returnTen(); \n",
    "let returnedValue = returnTen(); \n",
    "console.log(returnedValue * 2); "
   ]
  },
  {
   "cell_type": "markdown",
   "id": "7e07e024-2094-42f6-8ede-8bb28101ba3f",
   "metadata": {},
   "source": [
    "# Arrow Functions (A cleaner way of writing functions) \n",
    "<hr>\n",
    "An arrow function is a more concise and cleaner way to write functions. <br>\n",
    "\n",
    "<font color=\"blue\">Example:</font> "
   ]
  },
  {
   "cell_type": "code",
   "execution_count": 15,
   "id": "37bba6dc-6765-402a-917f-56be0cef897d",
   "metadata": {},
   "outputs": [
    {
     "ename": "SyntaxError",
     "evalue": "Identifier 'square' has already been declared",
     "execution_count": 15,
     "output_type": "error",
     "traceback": [
      "evalmachine.<anonymous>:1",
      "const square = (number) => {",
      "^",
      "",
      "SyntaxError: Identifier 'square' has already been declared",
      "    at Script.runInThisContext (node:vm:122:12)",
      "    at Object.runInThisContext (node:vm:296:38)",
      "    at run ([eval]:1020:15)",
      "    at onRunRequest ([eval]:864:18)",
      "    at onMessage ([eval]:828:13)",
      "    at process.emit (node:events:514:28)",
      "    at emit (node:internal/child_process:951:14)",
      "    at process.processTicksAndRejections (node:internal/process/task_queues:83:21)"
     ]
    }
   ],
   "source": [
    "const square = (number) => {\n",
    "    return number * number; \n",
    "}"
   ]
  },
  {
   "cell_type": "markdown",
   "id": "ab2904ad-0bd1-4041-b1ea-2f1de1a5ea4c",
   "metadata": {},
   "source": [
    "1. The name of the function is preceded by a variable keyword (let or const), then choose a name.\n",
    "2. The parameters are listed in the parenthesis, if no parameters are needed you must include the parethesis still.\n",
    "3. Use an arrow => and open curly braces.\n",
    "4. Input code to execute in the block. "
   ]
  }
 ],
 "metadata": {
  "kernelspec": {
   "display_name": "JavaScript (Node.js)",
   "language": "javascript",
   "name": "javascript"
  },
  "language_info": {
   "file_extension": ".js",
   "mimetype": "application/javascript",
   "name": "javascript",
   "version": "20.9.0"
  }
 },
 "nbformat": 4,
 "nbformat_minor": 5
}
